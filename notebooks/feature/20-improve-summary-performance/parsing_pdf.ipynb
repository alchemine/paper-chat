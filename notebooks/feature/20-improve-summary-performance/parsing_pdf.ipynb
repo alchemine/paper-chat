{
 "cells": [
  {
   "cell_type": "code",
   "execution_count": 1,
   "metadata": {},
   "outputs": [],
   "source": [
    "import re\n",
    "\n",
    "from langchain_community.document_loaders import PyPDFLoader\n",
    "\n",
    "\n",
    "def remove_images(content):\n",
    "    pattern = r'(?s)\\n?!\".+Fig.+\\n?'\n",
    "    return re.sub(pattern, \"\\n\", content)\n",
    "\n",
    "\n",
    "def process_text(text):\n",
    "    # 이미지 제거\n",
    "    text = remove_images(text)\n",
    "    return text\n",
    "\n",
    "\n",
    "arxiv_url = \"https://arxiv.org/pdf/2004.07606\"\n",
    "docs = PyPDFLoader(arxiv_url).load()\n",
    "doc = docs[0]\n",
    "content = \"\".join([process_text(doc.page_content) for doc in docs])"
   ]
  },
  {
   "cell_type": "code",
   "execution_count": 2,
   "metadata": {},
   "outputs": [
    {
     "name": "stdout",
     "output_type": "stream",
     "text": [
      "arXiv:2004.07606v1  [cs.CR]  16 Apr 2020Short Paper: Design and Evaluation of\n",
      "I. I NTRODUCTION\n",
      "Rapid globalization of supply chains has led to serious\n",
      "Furthermore, due to the complexity of the supply chain,\n",
      "To remedy these problems, supply chain systems based on\n",
      "However, there are privacy issues with these systems. Dis-\n",
      "As a result, the privacy of distribution information is not\n",
      "In this paper, we propose a method for preserving privacy\n",
      "To evaluate the proposed method, we implement it on the\n",
      "The rest of this paper is structured as follows. Section II\n",
      "II. R ELATED WORK\n",
      "Several blockchain-based systems have been proposed for\n",
      "POMS [3] is a system for managing product ownership using\n",
      "III. P ROPOSED METHOD\n",
      "We propose a method for preserving the privacy of dis-\n",
      "The proposed method consists of ManufacturerManager-\n",
      "A. Preparation for distribution\n",
      "Other information such as the name and phone number of the\n",
      "These registration processes can be executed only by a\n",
      "B. Products registration\n",
      "PMC records the raw blockchain address, not the encrypted\n",
      "C. Distribution management\n",
      "Distribution management consists of the following eight st eps:\n",
      "1) The owner shares a secret token with the recipient by a\n",
      "2) The owner encrypts the recipient’s address ARusing the\n",
      "3) The owner deploys VCon the blockchain.\n",
      "4) The owner records the recipient’s encrypted address\n",
      "5) The recipient generates a proof that it knows the secret\n",
      "6) The recipient sends the proof to PMC .\n",
      "7)PMC calls VCand veriﬁes that the proof sent is valid.\n",
      "8) The owner is changed to Enc(AR).\n",
      "PMC provides the necessary functions to perform Steps 4, 6,\n",
      "First, we explain the encryption of the address in Step 2.\n",
      "We use the elliptic curve elgamal encryption, as can be seen\n",
      "Enc(AR) = (kG,AR+kQ) (1)\n",
      "Fig. 3. Transaction fee per party for a certain product.\n",
      "V. E VALUATION\n",
      "To evaluate the proposed method, we implement it on the\n",
      "A. Environment setup\n",
      "We use Solidity version 0.5.11 [9] to write the smart\n",
      "B. Result and Discussion\n",
      "We measured the transaction fees for this distribution and\n",
      "The manufacturer and the other parties have different trans ac-\n",
      "We found that the total transaction fees required for one\n",
      "VI. C ONCLUSIONS AND FUTURE WORK\n",
      "In this paper, we proposed a method that can preserve pri-\n",
      "There are two issues that remain to be addressed in the\n",
      "REFERENCES\n",
      "17 465–17 477, 2017.\n"
     ]
    }
   ],
   "source": [
    "sentences = content.split(\"\\n\")\n",
    "clean_content = sentences[0]\n",
    "for idx in range(1, len(sentences)):\n",
    "    last_char = sentences[idx - 1][-1]\n",
    "    first_char = sentences[idx][0]\n",
    "\n",
    "    if (last_char == \".\" or last_char.isupper()) and (\n",
    "        first_char.isupper() or first_char.isnumeric()\n",
    "    ):\n",
    "        clean_content += \"\\n\" + sentences[idx]\n",
    "\n",
    "print(clean_content)"
   ]
  },
  {
   "cell_type": "code",
   "execution_count": 3,
   "metadata": {},
   "outputs": [],
   "source": [
    "def split_text_to_sections(text):\n",
    "    # 섹션을 구분하는 정규표현식 패턴\n",
    "    section_pattern = r\"(?:^|\\n)(Abstract|[IVX\\d]+\\.\\s+.+\\n|REFERENCES)\"\n",
    "\n",
    "    # 텍스트를 섹션으로 분할\n",
    "    sections = re.split(section_pattern, text)\n",
    "\n",
    "    # 첫 번째 요소를 제거\n",
    "    sections = sections[1:]\n",
    "\n",
    "    # 결과를 저장할 리스트\n",
    "    result = []\n",
    "\n",
    "    # 섹션 제목과 내용을 쌍으로 처리\n",
    "    for i in range(0, len(sections), 2):\n",
    "        title = sections[i].strip()\n",
    "        content = sections[i + 1].strip() if i + 1 < len(sections) else \"\"\n",
    "        result.append(\n",
    "            {\"title\": title, \"content\": content, \"paragraphs\": content.split(\"\\n\")}\n",
    "        )\n",
    "\n",
    "    # Reference 제거\n",
    "    result.pop()\n",
    "\n",
    "    return result"
   ]
  },
  {
   "cell_type": "code",
   "execution_count": 4,
   "metadata": {},
   "outputs": [],
   "source": [
    "sections = split_text_to_sections(clean_content)"
   ]
  },
  {
   "cell_type": "code",
   "execution_count": 5,
   "metadata": {},
   "outputs": [
    {
     "data": {
      "text/plain": [
       "[{'title': 'I. I NTRODUCTION',\n",
       "  'content': 'Rapid globalization of supply chains has led to serious\\nFurthermore, due to the complexity of the supply chain,\\nTo remedy these problems, supply chain systems based on\\nHowever, there are privacy issues with these systems. Dis-\\nAs a result, the privacy of distribution information is not\\nIn this paper, we propose a method for preserving privacy\\nTo evaluate the proposed method, we implement it on the\\nThe rest of this paper is structured as follows. Section II',\n",
       "  'paragraphs': ['Rapid globalization of supply chains has led to serious',\n",
       "   'Furthermore, due to the complexity of the supply chain,',\n",
       "   'To remedy these problems, supply chain systems based on',\n",
       "   'However, there are privacy issues with these systems. Dis-',\n",
       "   'As a result, the privacy of distribution information is not',\n",
       "   'In this paper, we propose a method for preserving privacy',\n",
       "   'To evaluate the proposed method, we implement it on the',\n",
       "   'The rest of this paper is structured as follows. Section II']},\n",
       " {'title': 'II. R ELATED WORK',\n",
       "  'content': 'Several blockchain-based systems have been proposed for\\nPOMS [3] is a system for managing product ownership using',\n",
       "  'paragraphs': ['Several blockchain-based systems have been proposed for',\n",
       "   'POMS [3] is a system for managing product ownership using']},\n",
       " {'title': 'III. P ROPOSED METHOD',\n",
       "  'content': 'We propose a method for preserving the privacy of dis-\\nThe proposed method consists of ManufacturerManager-\\nA. Preparation for distribution\\nOther information such as the name and phone number of the\\nThese registration processes can be executed only by a\\nB. Products registration\\nPMC records the raw blockchain address, not the encrypted\\nC. Distribution management\\nDistribution management consists of the following eight st eps:\\n1) The owner shares a secret token with the recipient by a\\n2) The owner encrypts the recipient’s address ARusing the\\n3) The owner deploys VCon the blockchain.\\n4) The owner records the recipient’s encrypted address\\n5) The recipient generates a proof that it knows the secret\\n6) The recipient sends the proof to PMC .\\n7)PMC calls VCand veriﬁes that the proof sent is valid.\\n8) The owner is changed to Enc(AR).\\nPMC provides the necessary functions to perform Steps 4, 6,\\nFirst, we explain the encryption of the address in Step 2.\\nWe use the elliptic curve elgamal encryption, as can be seen\\nEnc(AR) = (kG,AR+kQ) (1)\\nFig. 3. Transaction fee per party for a certain product.',\n",
       "  'paragraphs': ['We propose a method for preserving the privacy of dis-',\n",
       "   'The proposed method consists of ManufacturerManager-',\n",
       "   'A. Preparation for distribution',\n",
       "   'Other information such as the name and phone number of the',\n",
       "   'These registration processes can be executed only by a',\n",
       "   'B. Products registration',\n",
       "   'PMC records the raw blockchain address, not the encrypted',\n",
       "   'C. Distribution management',\n",
       "   'Distribution management consists of the following eight st eps:',\n",
       "   '1) The owner shares a secret token with the recipient by a',\n",
       "   '2) The owner encrypts the recipient’s address ARusing the',\n",
       "   '3) The owner deploys VCon the blockchain.',\n",
       "   '4) The owner records the recipient’s encrypted address',\n",
       "   '5) The recipient generates a proof that it knows the secret',\n",
       "   '6) The recipient sends the proof to PMC .',\n",
       "   '7)PMC calls VCand veriﬁes that the proof sent is valid.',\n",
       "   '8) The owner is changed to Enc(AR).',\n",
       "   'PMC provides the necessary functions to perform Steps 4, 6,',\n",
       "   'First, we explain the encryption of the address in Step 2.',\n",
       "   'We use the elliptic curve elgamal encryption, as can be seen',\n",
       "   'Enc(AR) = (kG,AR+kQ) (1)',\n",
       "   'Fig. 3. Transaction fee per party for a certain product.']},\n",
       " {'title': 'V. E VALUATION',\n",
       "  'content': 'To evaluate the proposed method, we implement it on the\\nA. Environment setup\\nWe use Solidity version 0.5.11 [9] to write the smart\\nB. Result and Discussion\\nWe measured the transaction fees for this distribution and\\nThe manufacturer and the other parties have different trans ac-\\nWe found that the total transaction fees required for one',\n",
       "  'paragraphs': ['To evaluate the proposed method, we implement it on the',\n",
       "   'A. Environment setup',\n",
       "   'We use Solidity version 0.5.11 [9] to write the smart',\n",
       "   'B. Result and Discussion',\n",
       "   'We measured the transaction fees for this distribution and',\n",
       "   'The manufacturer and the other parties have different trans ac-',\n",
       "   'We found that the total transaction fees required for one']},\n",
       " {'title': 'VI. C ONCLUSIONS AND FUTURE WORK',\n",
       "  'content': 'In this paper, we proposed a method that can preserve pri-\\nThere are two issues that remain to be addressed in the',\n",
       "  'paragraphs': ['In this paper, we proposed a method that can preserve pri-',\n",
       "   'There are two issues that remain to be addressed in the']}]"
      ]
     },
     "execution_count": 5,
     "metadata": {},
     "output_type": "execute_result"
    }
   ],
   "source": [
    "sections"
   ]
  },
  {
   "cell_type": "code",
   "execution_count": null,
   "metadata": {},
   "outputs": [],
   "source": [
    "for section in sections:\n",
    "    print(section[\"title\"])"
   ]
  },
  {
   "cell_type": "code",
   "execution_count": null,
   "metadata": {},
   "outputs": [],
   "source": [
    "print(section[\"content\"])"
   ]
  },
  {
   "cell_type": "code",
   "execution_count": null,
   "metadata": {},
   "outputs": [],
   "source": [
    "for paragraph in section[\"paragraphs\"]:\n",
    "    print(paragraph)\n",
    "    print()"
   ]
  }
 ],
 "metadata": {
  "kernelspec": {
   "display_name": "paper-chat-9TtSrW0h-py3.11",
   "language": "python",
   "name": "python3"
  },
  "language_info": {
   "codemirror_mode": {
    "name": "ipython",
    "version": 3
   },
   "file_extension": ".py",
   "mimetype": "text/x-python",
   "name": "python",
   "nbconvert_exporter": "python",
   "pygments_lexer": "ipython3",
   "version": "3.11.4"
  }
 },
 "nbformat": 4,
 "nbformat_minor": 2
}
