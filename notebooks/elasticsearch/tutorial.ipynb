{
 "cells": [
  {
   "cell_type": "markdown",
   "metadata": {},
   "source": [
    "# Connect to Elasticsearch\n"
   ]
  },
  {
   "cell_type": "code",
   "execution_count": null,
   "metadata": {},
   "outputs": [],
   "source": [
    "# https://www.elastic.co/search-labs/tutorials/search-tutorial/full-text-search/connect-python"
   ]
  },
  {
   "cell_type": "code",
   "execution_count": 2,
   "metadata": {},
   "outputs": [],
   "source": [
    "import json\n",
    "from pprint import pprint\n",
    "import os\n",
    "import time\n",
    "\n",
    "from elasticsearch import Elasticsearch\n",
    "\n",
    "\n",
    "# ELASTIC_PASSWORD = os.environ[\"ELASTIC_PASSWORD\"]\n",
    "ELASTIC_PASSWORD = \"paper_chat\"\n",
    "\n",
    "\n",
    "class Search:\n",
    "    def __init__(self):\n",
    "        self.es = Elasticsearch(\n",
    "            hosts=\"https://es01:9200\",\n",
    "            basic_auth=(\"elastic\", ELASTIC_PASSWORD),\n",
    "            verify_certs=False,\n",
    "        )\n",
    "        client_info = self.es.info()\n",
    "        print(\"Connected to Elasticsearch!\")\n",
    "        pprint(client_info.body)"
   ]
  },
  {
   "cell_type": "code",
   "execution_count": 3,
   "metadata": {},
   "outputs": [
    {
     "name": "stdout",
     "output_type": "stream",
     "text": [
      "Connected to Elasticsearch!\n",
      "{'cluster_name': 'docker-cluster',\n",
      " 'cluster_uuid': 'I9n8oe4ASbeUOowA6_KKjw',\n",
      " 'name': 'es01',\n",
      " 'tagline': 'You Know, for Search',\n",
      " 'version': {'build_date': '2024-07-07T22:04:49.882652950Z',\n",
      "             'build_flavor': 'default',\n",
      "             'build_hash': 'd55f984299e0e88dee72ebd8255f7ff130859ad0',\n",
      "             'build_snapshot': False,\n",
      "             'build_type': 'docker',\n",
      "             'lucene_version': '9.10.0',\n",
      "             'minimum_index_compatibility_version': '7.0.0',\n",
      "             'minimum_wire_compatibility_version': '7.17.0',\n",
      "             'number': '8.14.3'}}\n"
     ]
    },
    {
     "name": "stderr",
     "output_type": "stream",
     "text": [
      "/home/vscode/.cache/pypoetry/virtualenvs/paper-chat-9TtSrW0h-py3.11/lib/python3.11/site-packages/elasticsearch/_sync/client/__init__.py:399: SecurityWarning: Connecting to 'https://es01:9200' using TLS with verify_certs=False is insecure\n",
      "  _transport = transport_class(\n",
      "/home/vscode/.cache/pypoetry/virtualenvs/paper-chat-9TtSrW0h-py3.11/lib/python3.11/site-packages/urllib3/connectionpool.py:1099: InsecureRequestWarning: Unverified HTTPS request is being made to host 'es01'. Adding certificate verification is strongly advised. See: https://urllib3.readthedocs.io/en/latest/advanced-usage.html#tls-warnings\n",
      "  warnings.warn(\n"
     ]
    }
   ],
   "source": [
    "search = Search()\n",
    "es = search.es"
   ]
  },
  {
   "cell_type": "code",
   "execution_count": 1,
   "metadata": {},
   "outputs": [],
   "source": [
    "# https://www.elastic.co/search-labs/tutorials/search-tutorial/full-text-search/create-index"
   ]
  },
  {
   "cell_type": "markdown",
   "metadata": {},
   "source": [
    "# Create the Index\n"
   ]
  },
  {
   "cell_type": "code",
   "execution_count": 9,
   "metadata": {},
   "outputs": [
    {
     "name": "stderr",
     "output_type": "stream",
     "text": [
      "/home/vscode/.cache/pypoetry/virtualenvs/paper-chat-9TtSrW0h-py3.11/lib/python3.11/site-packages/urllib3/connectionpool.py:1099: InsecureRequestWarning: Unverified HTTPS request is being made to host 'es01'. Adding certificate verification is strongly advised. See: https://urllib3.readthedocs.io/en/latest/advanced-usage.html#tls-warnings\n",
      "  warnings.warn(\n"
     ]
    },
    {
     "data": {
      "text/plain": [
       "ObjectApiResponse({'acknowledged': True, 'shards_acknowledged': True, 'index': 'my_documents'})"
      ]
     },
     "execution_count": 9,
     "metadata": {},
     "output_type": "execute_result"
    }
   ],
   "source": [
    "es.indices.create(index=\"my_documents\")"
   ]
  },
  {
   "cell_type": "code",
   "execution_count": 10,
   "metadata": {},
   "outputs": [
    {
     "name": "stderr",
     "output_type": "stream",
     "text": [
      "/home/vscode/.cache/pypoetry/virtualenvs/paper-chat-9TtSrW0h-py3.11/lib/python3.11/site-packages/urllib3/connectionpool.py:1099: InsecureRequestWarning: Unverified HTTPS request is being made to host 'es01'. Adding certificate verification is strongly advised. See: https://urllib3.readthedocs.io/en/latest/advanced-usage.html#tls-warnings\n",
      "  warnings.warn(\n"
     ]
    },
    {
     "data": {
      "text/plain": [
       "ObjectApiResponse({'acknowledged': True})"
      ]
     },
     "execution_count": 10,
     "metadata": {},
     "output_type": "execute_result"
    }
   ],
   "source": [
    "es.indices.delete(index=\"my_documents\")"
   ]
  },
  {
   "cell_type": "code",
   "execution_count": 11,
   "metadata": {},
   "outputs": [],
   "source": [
    "class Search:\n",
    "    def __init__(self):\n",
    "        self.es = Elasticsearch(\n",
    "            hosts=\"https://es01:9200\",\n",
    "            basic_auth=(\"elastic\", ELASTIC_PASSWORD),\n",
    "            verify_certs=False,\n",
    "        )\n",
    "        client_info = self.es.info()\n",
    "        print(\"Connected to Elasticsearch!\")\n",
    "        pprint(client_info.body)\n",
    "\n",
    "    def create_index(self):\n",
    "        self.es.indices.delete(index=\"my_documents\", ignore_unavailable=True)\n",
    "        self.es.indices.create(index=\"my_documents\")"
   ]
  },
  {
   "cell_type": "markdown",
   "metadata": {},
   "source": [
    "# Add Documents to the Index\n"
   ]
  },
  {
   "cell_type": "code",
   "execution_count": 12,
   "metadata": {},
   "outputs": [
    {
     "name": "stderr",
     "output_type": "stream",
     "text": [
      "/home/vscode/.cache/pypoetry/virtualenvs/paper-chat-9TtSrW0h-py3.11/lib/python3.11/site-packages/urllib3/connectionpool.py:1099: InsecureRequestWarning: Unverified HTTPS request is being made to host 'es01'. Adding certificate verification is strongly advised. See: https://urllib3.readthedocs.io/en/latest/advanced-usage.html#tls-warnings\n",
      "  warnings.warn(\n"
     ]
    },
    {
     "name": "stdout",
     "output_type": "stream",
     "text": [
      "fRj5yJABWFu0icyGQgiG\n"
     ]
    }
   ],
   "source": [
    "documents = {\n",
    "    \"title\": \"Work From Home Policy\",\n",
    "    \"contents\": \"The purpose of this full-time work-from-home policy is...\",\n",
    "    \"created_on\": \"2023-11-02\",\n",
    "}\n",
    "\n",
    "response = es.index(index=\"my_documents\", body=documents)\n",
    "print(response[\"_id\"])"
   ]
  },
  {
   "cell_type": "code",
   "execution_count": 23,
   "metadata": {},
   "outputs": [],
   "source": [
    "class Search:\n",
    "    def __init__(self):\n",
    "        self.es = Elasticsearch(\n",
    "            hosts=\"https://es01:9200\",\n",
    "            basic_auth=(\"elastic\", ELASTIC_PASSWORD),\n",
    "            verify_certs=False,\n",
    "        )\n",
    "        client_info = self.es.info()\n",
    "        print(\"Connected to Elasticsearch!\")\n",
    "        pprint(client_info.body)\n",
    "\n",
    "    def create_index(self):\n",
    "        self.es.indices.delete(index=\"my_documents\", ignore_unavailable=True)\n",
    "        self.es.indices.create(index=\"my_documents\")\n",
    "\n",
    "    def insert_document(self, document):\n",
    "        return self.es.index(index=\"my_documents\", body=document)\n",
    "\n",
    "    def insert_documents(self, documents):\n",
    "        # NOTE: see details in https://elasticsearch-py.readthedocs.io/en/stable/api.html#elasticsearch.Elasticsearch.bulk\n",
    "        operations = []\n",
    "        for document in documents:\n",
    "            # For each document, two entries are added to the operations list:\n",
    "            #   1. A description of what operation to perform, set to index, with the name of the index given as an argument.\n",
    "            #   2. The actual data of the document\n",
    "            operations.append({\"index\": {\"_index\": \"my_documents\"}})\n",
    "            operations.append(document)\n",
    "        return self.es.bulk(operations=operations)"
   ]
  },
  {
   "cell_type": "markdown",
   "metadata": {},
   "source": [
    "# Ingesting Documents from a JSON File\n"
   ]
  },
  {
   "cell_type": "code",
   "execution_count": 22,
   "metadata": {},
   "outputs": [
    {
     "name": "stdout",
     "output_type": "stream",
     "text": [
      "Connected to Elasticsearch!\n",
      "{'cluster_name': 'docker-cluster',\n",
      " 'cluster_uuid': 'I9n8oe4ASbeUOowA6_KKjw',\n",
      " 'name': 'es01',\n",
      " 'tagline': 'You Know, for Search',\n",
      " 'version': {'build_date': '2024-07-07T22:04:49.882652950Z',\n",
      "             'build_flavor': 'default',\n",
      "             'build_hash': 'd55f984299e0e88dee72ebd8255f7ff130859ad0',\n",
      "             'build_snapshot': False,\n",
      "             'build_type': 'docker',\n",
      "             'lucene_version': '9.10.0',\n",
      "             'minimum_index_compatibility_version': '7.0.0',\n",
      "             'minimum_wire_compatibility_version': '7.17.0',\n",
      "             'number': '8.14.3'}}\n"
     ]
    },
    {
     "name": "stderr",
     "output_type": "stream",
     "text": [
      "/home/vscode/.cache/pypoetry/virtualenvs/paper-chat-9TtSrW0h-py3.11/lib/python3.11/site-packages/elasticsearch/_sync/client/__init__.py:399: SecurityWarning: Connecting to 'https://es01:9200' using TLS with verify_certs=False is insecure\n",
      "  _transport = transport_class(\n",
      "/home/vscode/.cache/pypoetry/virtualenvs/paper-chat-9TtSrW0h-py3.11/lib/python3.11/site-packages/urllib3/connectionpool.py:1099: InsecureRequestWarning: Unverified HTTPS request is being made to host 'es01'. Adding certificate verification is strongly advised. See: https://urllib3.readthedocs.io/en/latest/advanced-usage.html#tls-warnings\n",
      "  warnings.warn(\n",
      "/home/vscode/.cache/pypoetry/virtualenvs/paper-chat-9TtSrW0h-py3.11/lib/python3.11/site-packages/urllib3/connectionpool.py:1099: InsecureRequestWarning: Unverified HTTPS request is being made to host 'es01'. Adding certificate verification is strongly advised. See: https://urllib3.readthedocs.io/en/latest/advanced-usage.html#tls-warnings\n",
      "  warnings.warn(\n",
      "/home/vscode/.cache/pypoetry/virtualenvs/paper-chat-9TtSrW0h-py3.11/lib/python3.11/site-packages/urllib3/connectionpool.py:1099: InsecureRequestWarning: Unverified HTTPS request is being made to host 'es01'. Adding certificate verification is strongly advised. See: https://urllib3.readthedocs.io/en/latest/advanced-usage.html#tls-warnings\n",
      "  warnings.warn(\n"
     ]
    }
   ],
   "source": [
    "import json\n",
    "\n",
    "es = Search()\n",
    "\n",
    "with open(\"data.json\", \"rt\") as f:\n",
    "    documents = json.loads(f.read())\n",
    "\n",
    "for document in documents:\n",
    "    es.insert_document(document)"
   ]
  },
  {
   "cell_type": "markdown",
   "metadata": {},
   "source": [
    "# Regenerating the Index\n"
   ]
  },
  {
   "cell_type": "code",
   "execution_count": null,
   "metadata": {},
   "outputs": [],
   "source": [
    "class Search:\n",
    "    def __init__(self):\n",
    "        self.es = Elasticsearch(\n",
    "            hosts=\"https://es01:9200\",\n",
    "            basic_auth=(\"elastic\", ELASTIC_PASSWORD),\n",
    "            verify_certs=False,\n",
    "        )\n",
    "        client_info = self.es.info()\n",
    "        print(\"Connected to Elasticsearch!\")\n",
    "        pprint(client_info.body)\n",
    "\n",
    "    def create_index(self):\n",
    "        self.es.indices.delete(index=\"my_documents\", ignore_unavailable=True)\n",
    "        self.es.indices.create(index=\"my_documents\")\n",
    "\n",
    "    def insert_document(self, document):\n",
    "        return self.es.index(index=\"my_documents\", body=document)\n",
    "\n",
    "    def insert_documents(self, documents):\n",
    "        # NOTE: see details in https://elasticsearch-py.readthedocs.io/en/stable/api.html#elasticsearch.Elasticsearch.bulk\n",
    "        operations = []\n",
    "        for document in documents:\n",
    "            # For each document, two entries are added to the operations list:\n",
    "            #   1. A description of what operation to perform, set to index, with the name of the index given as an argument.\n",
    "            #   2. The actual data of the document\n",
    "            operations.append({\"index\": {\"_index\": \"my_documents\"}})\n",
    "            operations.append(document)\n",
    "        return self.es.bulk(operations=operations)\n",
    "\n",
    "    def reindex(self):\n",
    "        self.create_index()\n",
    "        with open(\"data.json\", \"rt\") as f:\n",
    "            documents = json.loads(f.read())\n",
    "        return self.insert_documents(documents)"
   ]
  },
  {
   "cell_type": "markdown",
   "metadata": {},
   "source": [
    "# Search Basics\n"
   ]
  },
  {
   "cell_type": "code",
   "execution_count": 24,
   "metadata": {},
   "outputs": [],
   "source": [
    "# https://www.elastic.co/search-labs/tutorials/search-tutorial/full-text-search/search-basics"
   ]
  },
  {
   "cell_type": "markdown",
   "metadata": {},
   "source": [
    "# Elasticsearch Queries\n",
    "\n",
    "The Elasticsearch services uses a Query DSL (Domain Specific Language) based on the JSON format to define queries.\n"
   ]
  },
  {
   "cell_type": "code",
   "execution_count": 30,
   "metadata": {},
   "outputs": [
    {
     "name": "stdout",
     "output_type": "stream",
     "text": [
      "Connected to Elasticsearch!\n",
      "{'cluster_name': 'docker-cluster',\n",
      " 'cluster_uuid': 'I9n8oe4ASbeUOowA6_KKjw',\n",
      " 'name': 'es01',\n",
      " 'tagline': 'You Know, for Search',\n",
      " 'version': {'build_date': '2024-07-07T22:04:49.882652950Z',\n",
      "             'build_flavor': 'default',\n",
      "             'build_hash': 'd55f984299e0e88dee72ebd8255f7ff130859ad0',\n",
      "             'build_snapshot': False,\n",
      "             'build_type': 'docker',\n",
      "             'lucene_version': '9.10.0',\n",
      "             'minimum_index_compatibility_version': '7.0.0',\n",
      "             'minimum_wire_compatibility_version': '7.17.0',\n",
      "             'number': '8.14.3'}}\n"
     ]
    },
    {
     "name": "stderr",
     "output_type": "stream",
     "text": [
      "/home/vscode/.cache/pypoetry/virtualenvs/paper-chat-9TtSrW0h-py3.11/lib/python3.11/site-packages/elasticsearch/_sync/client/__init__.py:399: SecurityWarning: Connecting to 'https://es01:9200' using TLS with verify_certs=False is insecure\n",
      "  _transport = transport_class(\n",
      "/home/vscode/.cache/pypoetry/virtualenvs/paper-chat-9TtSrW0h-py3.11/lib/python3.11/site-packages/urllib3/connectionpool.py:1099: InsecureRequestWarning: Unverified HTTPS request is being made to host 'es01'. Adding certificate verification is strongly advised. See: https://urllib3.readthedocs.io/en/latest/advanced-usage.html#tls-warnings\n",
      "  warnings.warn(\n"
     ]
    }
   ],
   "source": [
    "class Search:\n",
    "    def __init__(self):\n",
    "        self.es = Elasticsearch(\n",
    "            hosts=\"https://es01:9200\",\n",
    "            basic_auth=(\"elastic\", ELASTIC_PASSWORD),\n",
    "            verify_certs=False,\n",
    "        )\n",
    "        client_info = self.es.info()\n",
    "        print(\"Connected to Elasticsearch!\")\n",
    "        pprint(client_info.body)\n",
    "\n",
    "    def create_index(self):\n",
    "        self.es.indices.delete(index=\"my_documents\", ignore_unavailable=True)\n",
    "        self.es.indices.create(index=\"my_documents\")\n",
    "\n",
    "    def insert_document(self, document):\n",
    "        return self.es.index(index=\"my_documents\", body=document)\n",
    "\n",
    "    def insert_documents(self, documents):\n",
    "        # NOTE: see details in https://elasticsearch-py.readthedocs.io/en/stable/api.html#elasticsearch.Elasticsearch.bulk\n",
    "        operations = []\n",
    "        for document in documents:\n",
    "            # For each document, two entries are added to the operations list:\n",
    "            #   1. A description of what operation to perform, set to index, with the name of the index given as an argument.\n",
    "            #   2. The actual data of the document\n",
    "            operations.append({\"index\": {\"_index\": \"my_documents\"}})\n",
    "            operations.append(document)\n",
    "        return self.es.bulk(operations=operations)\n",
    "\n",
    "    def reindex(self):\n",
    "        self.create_index()\n",
    "        with open(\"data.json\", \"rt\") as f:\n",
    "            documents = json.loads(f.read())\n",
    "        return self.insert_documents(documents)\n",
    "\n",
    "    def search(self, **query_args):\n",
    "        return self.es.search(index=\"my_documents\", **query_args)\n",
    "\n",
    "\n",
    "es = Search()"
   ]
  },
  {
   "cell_type": "markdown",
   "metadata": {},
   "source": [
    "# Match Queries\n",
    "\n",
    "```python\n",
    "GET /_search\n",
    "{\n",
    "  \"query\": {\n",
    "    \"match\": {\n",
    "      \"name\": {\n",
    "        \"query\": \"search text here\"\n",
    "      }\n",
    "    }\n",
    "  }\n",
    "}\n",
    "```\n"
   ]
  },
  {
   "cell_type": "markdown",
   "metadata": {},
   "source": [
    "Scores in Elasticsearch are calculated using the [Okapi BM25](https://en.wikipedia.org/wiki/Okapi_BM25) algorithm.\n"
   ]
  },
  {
   "cell_type": "code",
   "execution_count": 95,
   "metadata": {},
   "outputs": [
    {
     "name": "stdout",
     "output_type": "stream",
     "text": [
      "{'value': 2, 'relation': 'eq'}\n"
     ]
    },
    {
     "name": "stderr",
     "output_type": "stream",
     "text": [
      "/home/vscode/.cache/pypoetry/virtualenvs/paper-chat-9TtSrW0h-py3.11/lib/python3.11/site-packages/urllib3/connectionpool.py:1099: InsecureRequestWarning: Unverified HTTPS request is being made to host 'es01'. Adding certificate verification is strongly advised. See: https://urllib3.readthedocs.io/en/latest/advanced-usage.html#tls-warnings\n",
      "  warnings.warn(\n"
     ]
    },
    {
     "data": {
      "text/plain": [
       "[{'_index': 'my_documents',\n",
       "  '_id': 'fhgByZABWFu0icyGrAhq',\n",
       "  '_score': 0.36464313,\n",
       "  '_ignored': ['content.keyword'],\n",
       "  '_source': {'name': 'John Doe',\n",
       "   'url': 'https://www.johndoe.com',\n",
       "   'summary': 'John Doe is a software engineer and a blogger.',\n",
       "   'content': 'John Doe is a software engineer and a blogger. He is the author of the popular blog johndoe.com where he writes about software engineering, programming, and technology. John has been working in the software industry for over 10 years and has a passion for building great software products. In his free time, John enjoys playing video games, reading books, and spending time with his family.',\n",
       "   'created_on': '2021-01-01',\n",
       "   'updated_at': '2021-01-01',\n",
       "   'category': 'blog',\n",
       "   'rolePermissions': {'read': True, 'write': False}}},\n",
       " {'_index': 'my_documents',\n",
       "  '_id': 'fxgByZABWFu0icyGrQga',\n",
       "  '_score': 0.36464313,\n",
       "  '_ignored': ['content.keyword'],\n",
       "  '_source': {'name': 'John Doe',\n",
       "   'url': 'https://www.johndoe.com',\n",
       "   'summary': 'John Doe is a software engineer and a blogger.',\n",
       "   'content': 'John Doe is a software engineer and a blogger. He is the author of the popular blog johndoe.com where he writes about software engineering, programming, and technology. John has been working in the software industry for over 10 years and has a passion for building great software products. In his free time, John enjoys playing video games, reading books, and spending time with his family.',\n",
       "   'created_on': '2021-01-01',\n",
       "   'updated_at': '2021-01-01',\n",
       "   'category': 'blog',\n",
       "   'rolePermissions': {'read': True, 'write': False}}}]"
      ]
     },
     "execution_count": 95,
     "metadata": {},
     "output_type": "execute_result"
    }
   ],
   "source": [
    "response = es.search(query={\"match\": {\"name\": {\"query\": \"John Doe\"}}})\n",
    "print(response[\"hits\"][\"total\"])\n",
    "response[\"hits\"][\"hits\"]"
   ]
  },
  {
   "cell_type": "markdown",
   "metadata": {},
   "source": [
    "# Retrieving Individual Results\n"
   ]
  },
  {
   "cell_type": "code",
   "execution_count": 105,
   "metadata": {},
   "outputs": [
    {
     "name": "stdout",
     "output_type": "stream",
     "text": [
      "Connected to Elasticsearch!\n",
      "{'cluster_name': 'docker-cluster',\n",
      " 'cluster_uuid': 'I9n8oe4ASbeUOowA6_KKjw',\n",
      " 'name': 'es01',\n",
      " 'tagline': 'You Know, for Search',\n",
      " 'version': {'build_date': '2024-07-07T22:04:49.882652950Z',\n",
      "             'build_flavor': 'default',\n",
      "             'build_hash': 'd55f984299e0e88dee72ebd8255f7ff130859ad0',\n",
      "             'build_snapshot': False,\n",
      "             'build_type': 'docker',\n",
      "             'lucene_version': '9.10.0',\n",
      "             'minimum_index_compatibility_version': '7.0.0',\n",
      "             'minimum_wire_compatibility_version': '7.17.0',\n",
      "             'number': '8.14.3'}}\n"
     ]
    },
    {
     "name": "stderr",
     "output_type": "stream",
     "text": [
      "/home/vscode/.cache/pypoetry/virtualenvs/paper-chat-9TtSrW0h-py3.11/lib/python3.11/site-packages/elasticsearch/_sync/client/__init__.py:399: SecurityWarning: Connecting to 'https://es01:9200' using TLS with verify_certs=False is insecure\n",
      "  _transport = transport_class(\n",
      "/home/vscode/.cache/pypoetry/virtualenvs/paper-chat-9TtSrW0h-py3.11/lib/python3.11/site-packages/urllib3/connectionpool.py:1099: InsecureRequestWarning: Unverified HTTPS request is being made to host 'es01'. Adding certificate verification is strongly advised. See: https://urllib3.readthedocs.io/en/latest/advanced-usage.html#tls-warnings\n",
      "  warnings.warn(\n"
     ]
    }
   ],
   "source": [
    "class Search:\n",
    "    def __init__(self):\n",
    "        self.es = Elasticsearch(\n",
    "            hosts=\"https://es01:9200\",\n",
    "            basic_auth=(\"elastic\", ELASTIC_PASSWORD),\n",
    "            verify_certs=False,\n",
    "        )\n",
    "        client_info = self.es.info()\n",
    "        print(\"Connected to Elasticsearch!\")\n",
    "        pprint(client_info.body)\n",
    "\n",
    "    def create_index(self):\n",
    "        self.es.indices.delete(index=\"my_documents\", ignore_unavailable=True)\n",
    "        self.es.indices.create(index=\"my_documents\")\n",
    "\n",
    "    def insert_document(self, document):\n",
    "        return self.es.index(index=\"my_documents\", body=document)\n",
    "\n",
    "    def insert_documents(self, documents):\n",
    "        # NOTE: see details in https://elasticsearch-py.readthedocs.io/en/stable/api.html#elasticsearch.Elasticsearch.bulk\n",
    "        operations = []\n",
    "        for document in documents:\n",
    "            # For each document, two entries are added to the operations list:\n",
    "            #   1. A description of what operation to perform, set to index, with the name of the index given as an argument.\n",
    "            #   2. The actual data of the document\n",
    "            operations.append({\"index\": {\"_index\": \"my_documents\"}})\n",
    "            operations.append(document)\n",
    "        return self.es.bulk(operations=operations)\n",
    "\n",
    "    def reindex(self):\n",
    "        self.create_index()\n",
    "        with open(\"data.json\", \"rt\") as f:\n",
    "            documents = json.loads(f.read())\n",
    "        return self.insert_documents(documents)\n",
    "\n",
    "    def search(self, **query_args):\n",
    "        response = self.es.search(index=\"my_documents\", **query_args)\n",
    "        print(response[\"hits\"][\"total\"])\n",
    "        for hit in response[\"hits\"][\"hits\"]:\n",
    "            print(hit[\"_source\"])\n",
    "        return response\n",
    "\n",
    "    def retrieve_document(self, id):\n",
    "        return self.es.get(index=\"my_documents\", id=id)\n",
    "\n",
    "\n",
    "es = Search()"
   ]
  },
  {
   "cell_type": "markdown",
   "metadata": {},
   "source": [
    "# Searching Multiple Fields\n",
    "\n",
    "- Details: https://www.elastic.co/guide/en/elasticsearch/reference/current/query-dsl-multi-match-query.html\n",
    "\n",
    "```python\n",
    "GET /_search\n",
    "{\n",
    "  \"query\": {\n",
    "    \"multi_match\" : {\n",
    "      \"query\":    \"this is a test\",\n",
    "      \"fields\": [ \"subject\", \"message\" ]\n",
    "    }\n",
    "  }\n",
    "}\n",
    "```\n"
   ]
  },
  {
   "cell_type": "code",
   "execution_count": 99,
   "metadata": {},
   "outputs": [
    {
     "name": "stdout",
     "output_type": "stream",
     "text": [
      "{'value': 1, 'relation': 'eq'}\n",
      "{'title': 'Work From Home Policy', 'contents': 'The purpose of this full-time work-from-home policy is...', 'created_on': '2023-11-02'}\n"
     ]
    },
    {
     "name": "stderr",
     "output_type": "stream",
     "text": [
      "/home/vscode/.cache/pypoetry/virtualenvs/paper-chat-9TtSrW0h-py3.11/lib/python3.11/site-packages/urllib3/connectionpool.py:1099: InsecureRequestWarning: Unverified HTTPS request is being made to host 'es01'. Adding certificate verification is strongly advised. See: https://urllib3.readthedocs.io/en/latest/advanced-usage.html#tls-warnings\n",
      "  warnings.warn(\n"
     ]
    }
   ],
   "source": [
    "es.search(query={\"multi_match\": {\"query\": \"policy\", \"fields\": [\"name\", \"title\"]}})"
   ]
  },
  {
   "cell_type": "markdown",
   "metadata": {},
   "source": [
    "# Pagination\n",
    "\n",
    "https://www.elastic.co/search-labs/tutorials/search-tutorial/full-text-search/pagination\n"
   ]
  },
  {
   "cell_type": "code",
   "execution_count": 106,
   "metadata": {},
   "outputs": [
    {
     "name": "stdout",
     "output_type": "stream",
     "text": [
      "{'value': 2, 'relation': 'eq'}\n",
      "{'name': 'John Doe', 'url': 'https://www.johndoe.com', 'summary': 'John Doe is a software engineer and a blogger.', 'content': 'John Doe is a software engineer and a blogger. He is the author of the popular blog johndoe.com where he writes about software engineering, programming, and technology. John has been working in the software industry for over 10 years and has a passion for building great software products. In his free time, John enjoys playing video games, reading books, and spending time with his family.', 'created_on': '2021-01-01', 'updated_at': '2021-01-01', 'category': 'blog', 'rolePermissions': {'read': True, 'write': False}}\n"
     ]
    },
    {
     "name": "stderr",
     "output_type": "stream",
     "text": [
      "/home/vscode/.cache/pypoetry/virtualenvs/paper-chat-9TtSrW0h-py3.11/lib/python3.11/site-packages/urllib3/connectionpool.py:1099: InsecureRequestWarning: Unverified HTTPS request is being made to host 'es01'. Adding certificate verification is strongly advised. See: https://urllib3.readthedocs.io/en/latest/advanced-usage.html#tls-warnings\n",
      "  warnings.warn(\n"
     ]
    }
   ],
   "source": [
    "results = es.search(\n",
    "    query={\n",
    "        \"multi_match\": {\n",
    "            \"query\": \"John\",\n",
    "            \"fields\": [\"name\", \"title\", \"summary\", \"content\"],\n",
    "        }\n",
    "    },\n",
    "    size=1,\n",
    ")"
   ]
  },
  {
   "cell_type": "code",
   "execution_count": 108,
   "metadata": {},
   "outputs": [
    {
     "name": "stdout",
     "output_type": "stream",
     "text": [
      "{'value': 2, 'relation': 'eq'}\n",
      "{'name': 'John Doe', 'url': 'https://www.johndoe.com', 'summary': 'John Doe is a software engineer and a blogger.', 'content': 'John Doe is a software engineer and a blogger. He is the author of the popular blog johndoe.com where he writes about software engineering, programming, and technology. John has been working in the software industry for over 10 years and has a passion for building great software products. In his free time, John enjoys playing video games, reading books, and spending time with his family.', 'created_on': '2021-01-01', 'updated_at': '2021-01-01', 'category': 'blog', 'rolePermissions': {'read': True, 'write': False}}\n"
     ]
    },
    {
     "name": "stderr",
     "output_type": "stream",
     "text": [
      "/home/vscode/.cache/pypoetry/virtualenvs/paper-chat-9TtSrW0h-py3.11/lib/python3.11/site-packages/urllib3/connectionpool.py:1099: InsecureRequestWarning: Unverified HTTPS request is being made to host 'es01'. Adding certificate verification is strongly advised. See: https://urllib3.readthedocs.io/en/latest/advanced-usage.html#tls-warnings\n",
      "  warnings.warn(\n"
     ]
    }
   ],
   "source": [
    "results = es.search(\n",
    "    query={\n",
    "        \"multi_match\": {\n",
    "            \"query\": \"John\",\n",
    "            \"fields\": [\"name\", \"title\", \"summary\", \"content\"],\n",
    "        }\n",
    "    },\n",
    "    size=1,\n",
    "    from_=1,\n",
    ")"
   ]
  },
  {
   "cell_type": "markdown",
   "metadata": {},
   "source": [
    "# Filters\n"
   ]
  },
  {
   "cell_type": "markdown",
   "metadata": {},
   "source": [
    "# Introduction to Boolean Queries\n",
    "\n",
    "A compound query allows an application to combine two or more individual queries, so that they execute together, and if appropriate, return a combined set of results. \\\n",
    "The standard way to create compound queries in Elasticsearch is to use a [Boolean query](https://www.elastic.co/guide/en/elasticsearch/reference/current/query-dsl-bool-query.html).\n",
    "\n",
    "- Compound queries: https://www.elastic.co/guide/en/elasticsearch/reference/current/compound-queries.html\n",
    "\n",
    "There are four different ways to combine queries:\n",
    "\n",
    "1. bool.must: the clause must match. If multiple clauses are given, all must match (similar to an AND logical operation).\n",
    "2. bool.should: when used without must, at least one clause should match (similar to an OR logical operation). When combined with must each matching clause boosts the relevance score of the document.\n",
    "3. bool.filter: only documents that match the clause(s) are considered search result candidates.\n",
    "4. bool.must_not: only documents that do not match the clause(s) are considered search result candidates.\n"
   ]
  },
  {
   "cell_type": "markdown",
   "metadata": {},
   "source": [
    "# Adding a Filter to a Query\n",
    "\n",
    "1. The `bool.must` clause is usually the place where the base query is defined.\n",
    "2. The filtering is implemented in a `bool.filter` section\n",
    "   - Using a `match` or `multi_match` query for a filter is not a good idea, because these are full-text search queries.\n",
    "   - The query must return an absolute true or false answer for each document and not a relevance score like the match queries do.\n",
    "   - `term`: performs an exact search for the a value in a given field.\n",
    "     - https://www.elastic.co/guide/en/elasticsearch/reference/current/query-dsl-term-query.html\n",
    "     - More appropriate for `keyword` (`category.keyword`) type, not default type `text`\n"
   ]
  },
  {
   "cell_type": "code",
   "execution_count": 110,
   "metadata": {},
   "outputs": [
    {
     "name": "stdout",
     "output_type": "stream",
     "text": [
      "{'value': 0, 'relation': 'eq'}\n"
     ]
    },
    {
     "name": "stderr",
     "output_type": "stream",
     "text": [
      "/home/vscode/.cache/pypoetry/virtualenvs/paper-chat-9TtSrW0h-py3.11/lib/python3.11/site-packages/urllib3/connectionpool.py:1099: InsecureRequestWarning: Unverified HTTPS request is being made to host 'es01'. Adding certificate verification is strongly advised. See: https://urllib3.readthedocs.io/en/latest/advanced-usage.html#tls-warnings\n",
      "  warnings.warn(\n"
     ]
    },
    {
     "data": {
      "text/plain": [
       "ObjectApiResponse({'took': 6, 'timed_out': False, '_shards': {'total': 1, 'successful': 1, 'skipped': 0, 'failed': 0}, 'hits': {'total': {'value': 0, 'relation': 'eq'}, 'max_score': None, 'hits': []}})"
      ]
     },
     "execution_count": 110,
     "metadata": {},
     "output_type": "execute_result"
    }
   ],
   "source": [
    "query = {\n",
    "    \"bool\": {\n",
    "        \"must\": [\n",
    "            {\n",
    "                \"multi_match\": {\n",
    "                    \"query\": \"John\",\n",
    "                    \"fields\": [\"name\", \"title\", \"summary\", \"content\"],\n",
    "                }\n",
    "            }\n",
    "        ],\n",
    "        \"filter\": [{\"term\": {\"category.keyword\": {\"value\": \"category to filter\"}}}],\n",
    "    }\n",
    "}\n",
    "es.search(query=query)"
   ]
  },
  {
   "cell_type": "code",
   "execution_count": null,
   "metadata": {},
   "outputs": [
    {
     "name": "stdout",
     "output_type": "stream",
     "text": [
      "{'value': 0, 'relation': 'eq'}\n"
     ]
    },
    {
     "name": "stderr",
     "output_type": "stream",
     "text": [
      "/home/vscode/.cache/pypoetry/virtualenvs/paper-chat-9TtSrW0h-py3.11/lib/python3.11/site-packages/urllib3/connectionpool.py:1099: InsecureRequestWarning: Unverified HTTPS request is being made to host 'es01'. Adding certificate verification is strongly advised. See: https://urllib3.readthedocs.io/en/latest/advanced-usage.html#tls-warnings\n",
      "  warnings.warn(\n"
     ]
    },
    {
     "data": {
      "text/plain": [
       "ObjectApiResponse({'took': 6, 'timed_out': False, '_shards': {'total': 1, 'successful': 1, 'skipped': 0, 'failed': 0}, 'hits': {'total': {'value': 0, 'relation': 'eq'}, 'max_score': None, 'hits': []}})"
      ]
     },
     "metadata": {},
     "output_type": "display_data"
    }
   ],
   "source": [
    "query = {\n",
    "    \"bool\": {\n",
    "        \"must\": [\n",
    "            {\n",
    "                \"multi_match\": {\n",
    "                    \"query\": \"John\",\n",
    "                    \"fields\": [\"name\", \"title\", \"summary\", \"content\"],\n",
    "                }\n",
    "            }\n",
    "        ],\n",
    "        \"filter\": [{\"term\": {\"category.keyword\": {\"value\": \"category to filter\"}}}],\n",
    "    }\n",
    "}\n",
    "es.search(query=query)"
   ]
  },
  {
   "cell_type": "markdown",
   "metadata": {},
   "source": [
    "# Chatbot\n",
    "\n",
    "- Chunking: https://github.com/elastic/elasticsearch-labs/blob/main/notebooks/document-chunking/tokenization.ipynb\n"
   ]
  },
  {
   "cell_type": "code",
   "execution_count": 11,
   "metadata": {},
   "outputs": [],
   "source": [
    "from elasticsearch import Elasticsearch, NotFoundError\n",
    "\n",
    "from langchain import hub\n",
    "from langchain.chains import MapReduceDocumentsChain, ReduceDocumentsChain\n",
    "from langchain.chains.llm import LLMChain\n",
    "from langchain.chains.summarize import load_summarize_chain\n",
    "from langchain.chains.combine_documents.stuff import StuffDocumentsChain\n",
    "from langchain.tools.retriever import create_retriever_tool\n",
    "from langchain_core.messages import HumanMessage, BaseMessage\n",
    "from langchain_core.prompts import ChatPromptTemplate, PromptTemplate\n",
    "from langchain_community.document_loaders import PyPDFLoader\n",
    "from langchain_community.vectorstores import FAISS\n",
    "from langchain_text_splitters import (\n",
    "    RecursiveCharacterTextSplitter,\n",
    "    CharacterTextSplitter,\n",
    ")\n",
    "from langchain_elasticsearch import ElasticsearchStore\n",
    "\n",
    "from langgraph.prebuilt import create_react_agent\n",
    "from langgraph.checkpoint.sqlite import SqliteSaver\n",
    "\n",
    "from paper_chat.core.timer import T\n",
    "from paper_chat.core.llm import CHAT_LLM, EMBEDDINGS\n",
    "\n",
    "\n",
    "arxiv_url = \"https://arxiv.org/pdf/2004.07606\"\n",
    "loader = PyPDFLoader(arxiv_url)\n",
    "_docs = loader.load()\n",
    "_text_splitter = RecursiveCharacterTextSplitter(chunk_size=1000, chunk_overlap=200)\n",
    "_splits = _text_splitter.split_documents(_docs)"
   ]
  },
  {
   "cell_type": "code",
   "execution_count": 12,
   "metadata": {},
   "outputs": [],
   "source": [
    "client = Elasticsearch(\n",
    "    hosts=\"https://es01:9200\",\n",
    "    basic_auth=(\"elastic\", \"paper_chat\"),\n",
    "    verify_certs=False,\n",
    ")\n",
    "client_info = client.info()"
   ]
  },
  {
   "cell_type": "code",
   "execution_count": 14,
   "metadata": {},
   "outputs": [],
   "source": [
    "INDEX = \"papers\"\n",
    "client.indices.delete(index=INDEX, ignore_unavailable=True)\n",
    "vectorstore = ElasticsearchStore.from_documents(\n",
    "    _splits, EMBEDDINGS, es_connection=client, index_name=INDEX\n",
    ")"
   ]
  }
 ],
 "metadata": {
  "kernelspec": {
   "display_name": "paper-chat-9TtSrW0h-py3.11",
   "language": "python",
   "name": "python3"
  },
  "language_info": {
   "codemirror_mode": {
    "name": "ipython",
    "version": 3
   },
   "file_extension": ".py",
   "mimetype": "text/x-python",
   "name": "python",
   "nbconvert_exporter": "python",
   "pygments_lexer": "ipython3",
   "version": "3.11.4"
  }
 },
 "nbformat": 4,
 "nbformat_minor": 2
}
