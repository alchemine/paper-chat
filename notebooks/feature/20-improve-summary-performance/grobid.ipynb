{
 "cells": [
  {
   "cell_type": "code",
   "execution_count": 18,
   "metadata": {},
   "outputs": [],
   "source": [
    "from urllib import request\n",
    "from collections import OrderedDict\n",
    "\n",
    "from langchain_community.document_loaders.generic import GenericLoader\n",
    "from langchain_community.document_loaders.parsers import GrobidParser\n",
    "\n",
    "\n",
    "def parse_arxiv_paper(arxiv_url: str) -> dict:\n",
    "    \"\"\"Parse an arXiv paper from a URL.\"\"\"\n",
    "    request.urlretrieve(arxiv_url, f\"/tmp/arxiv_{arxiv_url.split('/')[-1]}.pdf\")\n",
    "    loader = GenericLoader.from_filesystem(\n",
    "        \"/tmp/\",\n",
    "        glob=\"arxiv_*\",\n",
    "        suffixes=[\".pdf\"],\n",
    "        parser=GrobidParser(\n",
    "            segment_sentences=False,\n",
    "            grobid_server=\"http://grobid:8070/api/processFulltextDocument\",\n",
    "        ),\n",
    "    )\n",
    "    docs = loader.load()\n",
    "\n",
    "    # Parse\n",
    "    result = []\n",
    "    sections = OrderedDict()\n",
    "    for doc in docs:\n",
    "        section_title = doc.metadata[\"section_title\"]\n",
    "        if section_title not in sections:\n",
    "            sections[section_title] = {\"section_title\": section_title, \"paragraphs\": []}\n",
    "        section = sections[section_title]\n",
    "        section[\"paragraphs\"].append(doc.page_content)\n",
    "\n",
    "    for section in sections.values():\n",
    "        result.append(section)\n",
    "\n",
    "    return result"
   ]
  },
  {
   "cell_type": "code",
   "execution_count": 19,
   "metadata": {},
   "outputs": [],
   "source": [
    "arxiv_url = \"https://arxiv.org/pdf/2004.07606\"\n",
    "d = parse_arxiv_paper(arxiv_url)"
   ]
  },
  {
   "cell_type": "code",
   "execution_count": 20,
   "metadata": {},
   "outputs": [
    {
     "data": {
      "text/plain": [
       "[{'section_title': 'I. INTRODUCTION',\n",
       "  'paragraphs': ['Rapid globalization of supply chains has led to serious problems, particularly with respect to traceability.The Organisation for Economic Co-operation and Development (OECD) reported that counterfeit products in international trade totaled 509 billion USD in 2016, up from 461 billion USD in 2013 [1].Furthermore, due to the complexity of the supply chain, ingredients contaminated with Escherichia coli could not be tracked, resulting in the 2015 E. coli outbreak at Chipotle Mexican Grill [2].',\n",
       "   'To remedy these problems, supply chain systems based on blockchain have been proposed [3]- [5].These systems store distribution information of products in a public blockchain (PBC).Note that the distribution information in these systems are the records of ownership transfers.Smart contracts prevent the registration of fraudulent distribution information by setting appropriate conditions.Once information has been stored in the blockchain, no one can alter the information due to its immutability.Therefore, these systems secure a high level of traceability in the supply chain.Note that owners are managed by using their blockchain addresses.In general, blockchain addresses are not tied to real-world entities.Thus, a mechanism similar to public key certificates is used to link blockchain addresses to information about a company or individual.',\n",
       "   'However, there are privacy issues with these systems.Distribution information is part of the competitive advantage of companies, and may include relationships between individuals in secondary markets.Therefore, distribution information is private information that needs to be protected.However, information recorded in a PBC can be freely viewed by anyone.As a result, the privacy of distribution information is not protected.',\n",
       "   'In this paper, we propose a method for preserving privacy while securing traceability by the manufacturer of a product in supply chain systems that use PBC.The main reason why conventional methods cannot preserve privacy is that they store the blockchain addresses directly in the blockchain.Therefore, the proposed method preserves privacy by encrypting blockchain addresses by using the manufacturer\\'s public key ./\"0\"1%-*+%&,\"- and storing the encrypted addresses in the blockchain, as shown in Fig. 1.The manufacturer can then track the product by decrypting the addresses using its own private key.To eliminate distribution by illegitimate parties, the supply chain parties such as M, D, R and C in Fig. 1 must indicate to the system that they are legitimate parties when they ship and receive the product.Accordingly, the proposed method uses a zero-knowledge proof to allow supply chain parties to prove their authenticity while hiding their blockchain addresses.',\n",
       "   'To evaluate the proposed method, we implement it on the Ethereum platform.We assume distributions of a product, or transfers of ownership, starting with the manufacturer in the evaluation.The results show that the proposed method can preserve privacy while securing traceability by the manufacturer.We also evaluate the transaction fees for distribution and find that the fee per party is at most 2.6 USD.',\n",
       "   'The rest of this paper structured as follows.Section II discusses related work.Section III introduces the proposed method, which is verified in Section IV in terms of privacy and traceability.Section V describes the environment for evaluating the proposed method and presents the evaluation results.We also present the results of evaluating transaction fees.Lastly, our conclusions and future work are presented in Section VI.']},\n",
       " {'section_title': 'II. RELATED WORK',\n",
       "  'paragraphs': ['Several blockchain-based systems have been proposed for improving the traceability of products in supply chains.POMS [3] is a system for managing product ownership using the blockchain to prevent distribution of counterfeits in the post-supply chain.Kim et al. [4] proposed a method for tracking products from the materials stage by repeated consumption and production of traceable resource units (TRUs).Huang et al. [5] proposes a method that can be applied to the food supply chain, which features high-frequency distribution, through the use of off-chain technology.However, the protecting the privacy of distribution information has not been considered in any methods.']},\n",
       " {'section_title': 'III. PROPOSED METHOD',\n",
       "  'paragraphs': ['We propose a method for preserving the privacy of distribution information by extending POMS [3].The proposed method uses the public key of the product manufacturer to encrypt blockchain addresses.Storing these encrypted addresses in the blockchain conceals the blockchain addresses and preserves privacy.A manufacturer can track its products by using its own private key to decrypt and get the list of the blockchain addresses.In addition, each of the supply chain parties proves, based on a zero-knowledge proof, that it knows a secret token possessed by only legitimate supply chain parties.Thus, the proposed method ensures distribution among legitimate supply chain parties while concealing their blockchain addresses.',\n",
       "   'The proposed method consists of ManufacturerManager-Contract (MMC) for managing manufacturer information, ProductsManagerContract (PMC) for managing product distributions, and VerifierContract (VC) for verifying a proof based on the zero-knowledge proof.In the following, we describe how to use these three contracts to prepare for distribution, register a product, manage distribution, and track the product.']},\n",
       " {'section_title': 'A. Preparation for distribution',\n",
       "  'paragraphs': [\"To prepare for distribution, the manufacturer information is registered in MMC.The required information is a pair consisting of the manufacturer's blockchain address and public key.Other information such as the name and phone number of the manufacturer can also be registered if necessary.In addition, MMC associates the manufacturer's blockchain address with its products.\",\n",
       "   'These registration processes can be executed only by a designated administrator.For example, this could be performed by GS1 [6], an NPO that develops and maintains global standards for supply chains.']},\n",
       " {'section_title': 'B. Products registration',\n",
       "  'paragraphs': [\"Only a manufacturer registered with MMC can register its products with PMC as the first owner of the product.Distribution of a product is initiated by a manufacturer's registration of the product information with PMC after confirmation that the manufacturer is registered with MMC and is associated with the product.Below, PMC is used to manage ownership.\",\n",
       "   'PMC records the raw blockchain address, not the encrypted address, for the manufacturer only.This is because the manufacturer would like to prove that it has manufactured the product.Anyone can freely identify the manufacturer of the product by viewing the first owner recorded in PMC.']},\n",
       " {'section_title': 'C. Distribution management',\n",
       "  'paragraphs': ['Fig. 2 illustrates the flow of distribution management.Distribution management consists of the following eight steps: Steps 1 to 4 are the shipping process and Steps 5 to 8 are the receiving process.',\n",
       "   '1) The owner shares a secret token with the recipient by a secure method.',\n",
       "   \"2) The owner encrypts the recipient's address A R using the secret token and the manufacturer's public key to obtain Enc(A R ).\",\n",
       "   \"3) The owner deploys VC on the blockchain.4) The owner records the recipient's encrypted address Enc(A R ) and the contract address of VC obtained from\",\n",
       "   'Step 3 in PMC. 5) The recipient generates a proof that it knows the secret token shared in Step 1 based on a zero-knowledge proof.6) The recipient sends the proof to PMC. 7) PMC calls VC and verifies that the proof sent is valid.8) The owner is changed to Enc(A R ).PMC provides the necessary functions to perform Steps 4, 6, 7, and 8.The important steps are explained below.',\n",
       "   'First, we explain the encryption of the address in Step 2. We use the elliptic curve elgamal encryption, as can be seen in ( 1), to encrypt the address.',\n",
       "   \"In the proposed method, k is the secret token, G is the generator of the elliptic curve, A R is the recipient's address, and Q is the manufacturer's public key.Note that A R must be a point on the elliptic curve for encryption.Therefore, we use a value converted from A R to a point on the elliptic curve.Second, we describe the zero-knowledge proof in Step 5. To calculate the recipient's encrypted address Enc(A R ), the owner and the recipient must know all of k, G, A R and Q in (1).Although G, A R and Q are public information, k is known only to the owner and the recipient.That is, only the legitimate owner and recipient who know k can correctly calculate Enc(A R ).Therefore, the recipient can prove that it is legitimate by proving that it can calculate Enc(A R ).We use a zero-knowledge proof for this purpose.Zero-knowledge proof allows the recipient to prove that it can calculate Enc(A R ) without revealing k and A R .Although there are various implementations of zero-knowledge proofs, we utilize zk-SNARKs which is known to be compatible with blockchain due to its non-interactivity and small proof size [7].This proof is verified in Step 7. PMC calls VC with the recipient's encrypted address Enc(A R ), the manufacturer's public key Q, and the proof generated in Step 5 as arguments to verify this proof.\",\n",
       "   \"In practice, even in Step 4, the owner proves that it is legitimate before recording the recipient's encrypted address in PMC.This is to prevent shipping by anyone other than the legitimate owner.In the same way that the legitimate recipient is proved, the owner can prove that it is legitimate by proving that it can calculate Enc(A O ).\"]},\n",
       " {'section_title': 'D. Product tracking',\n",
       "  'paragraphs': [\"The blockchain records the owners' encrypted addresses as distribution information.These are encrypted using the manufacturer's public key.Therefore, the manufacturer can track the product by decrypting it using its own private key and arranging the decrypted addresses in chronological order.\"]},\n",
       " {'section_title': 'A. Traceability',\n",
       "  'paragraphs': [\"There are three possible attack vectors for inhibiting traceability.The first is to interfere with decryption of the owner's encrypted address using the manufacturer's private key.This can be performed by the attacker recording an encrypted statement on the blockchain using a public key other than the manufacturer's.However, the proof verification in Step 7 is performed by directly referring to the manufacturer's public key recorded in the blockchain.Therefore, the proof verification in Step 7 always fails if a statement encrypted with a public key other than the manufacturer's is recorded.That is, distribution by an attacker also fails.For this reason, it is impossible for this attack to succeed.\",\n",
       "   'The second attack vector is for a third party not involved in distribution to carry out distribution by impersonating the owner or recipient.This could happen if the third party is able to generate a valid proof.However, those who do not know the information required for the proof cannot generate a valid proof because of the soundness of zero-knowledge proof.Therefore, it is impossible for this attack to succeed.',\n",
       "   'The third attack vector is collusion between the owner and the recipient that makes it difficult to identify the owner.This can be performed by the attacker using a random or real address other than his/her own.The owner and recipient share an arbitrary address in addition to a secret token.By using them to generate a proof, the owner information of PMC is updated correctly.Therefore, it is possible for this attack to succeed.We intend to deal with this attack in future work.']},\n",
       " {'section_title': 'B. Privacy',\n",
       "  'paragraphs': [\"An attacker can compromise privacy by retrieving the address from the owner's encrypted address or the proof recorded in PMC.First, we consider the encrypted address.Cryptographic security depends on the key length and the cryptographic algorithm.For example, when using 254-bit elliptic curve cryptography, it is extremely difficult for a party who does not know the private key to decrypt the encrypted address in practical time.Thus, we can ensure the security of the encrypted address in the proposed method by using the 254-bit elliptic curve proposed in [8].Second, we consider the proof used in the proposed method.We use a zero-knowledge proof in the proposed method that is known to satisfy zeroknowledge-ness.In other words, it is not possible to recover information such as the address and the secret token from the proof.As a result, the attacker cannot compromise privacy.That is, the attacker cannot retrieve the owner's blockchain address.\"]},\n",
       " {'section_title': 'V. EVALUATION',\n",
       "  'paragraphs': ['To evaluate the proposed method, we implement it on the Ethereum platform.We also measure the transaction fees and discuss use cases based on the evaluation results.']},\n",
       " {'section_title': 'A. Environment setup',\n",
       "  'paragraphs': ['We assume distributions of a product starting with the manufacturer.The manufacturer executes product registration and shipping operations.The other parties execute shipping and receiving operations.',\n",
       "   'We use Solidity version 0.5.11[9] to write the smart contracts and the JavaScript Virtual Machine environment provided by Remix [10] to evaluate the proposed method.We use ZoKrates [11], a toolbox of zk-SNARKs, for implementation of the zero-knowledge proof.']},\n",
       " {'section_title': 'B. Result and Discussion',\n",
       "  'paragraphs': [\"We found that the owner addresses could not be retrieved from the information recorded in PMC and VC after distributions of a product.We also confirmed that the manufacturer could identify the product owner by decrypting the owner's encrypted addresses recorded in PMC using its own private key.The proposed method can preserve privacy while securing traceability by the manufacturer.\",\n",
       "   'We measured the transaction fees for this distribution and converted them into USD by multiplying the gas price by the gas value output by Remix.At time of evaluation on March 17, 2020 at 11:00 a.m.(JST), the gas price was 1.1622 × 10 -6 USD per gas.The maximum value of the transaction fee per party in this distribution is shown in Fig. 3.The manufacturer and the other parties have different transaction fees because they execute different processes.In addition, the shipping process has different implementations of the functions executed by the manufacturer and the other parties, depending on whether the verification step is performed using the zero-knowledge proof.Therefore, the transaction fees of the shipping process differ between the manufacturer and the other parties.',\n",
       "   'We found that the total transaction fees required for one party is at most 2.6 USD.Although there is room to reduce the fees by optimizing the implementation, there are still use cases that can be applied to high-priced products such as cars and home appliances even in the current implementation.Such products are subject to recall if the product has a problem or defect.The challenges of recalls include increasing consumer awareness of recalls and increasing recall response rates [12].',\n",
       "   'In the case of distribution by the proposed method, only the manufacturer can track the product.Therefore, these issues can be solved by tracking the product that is subject to recall and recalling that product through immediate notification of the owner.The owner pays at most 2.6 USD to be able to promptly implement measures such as repair or replacement of the product.In this case, the transaction fee may be regarded as the fee for getting this kind of warranty and we believe that 2.6 USD is not an expensive charge for a warranty.']},\n",
       " {'section_title': 'VI. CONCLUSIONS AND FUTURE WORK',\n",
       "  'paragraphs': ['In this paper, we proposed a method that can preserve privacy while securing traceability by the product manufacturer in a supply chain system using PBC.We implemented the proposed method on the Ethereum platform and found the transaction fee per party to be at most 2.6 USD.',\n",
       "   'There are two issues that remain to be addressed in the future.The first issue is consideration of ways to reduce the transaction fees.Most of the transaction fees in the proposed method arise from the deployment process of VC.Instead of the owner deploying VC for each distribution, the manufacturer could deploy it in advance.If supply chain parties use a pre-deployed VC, we can expect a significant reduction in the fees because of having only a one-time VC deployment fee.If the transaction fees can be reduced, we can apply this system to cheaper products.The second issue is to extend the method so that it can be applied to the assembly and disassembly of products.The proposed method assumes only the distribution of a single product without modification, that is, distribution of a finished product.Therefore, if it could be applied to the assembly and disassembly of products, it could be applied to the distribution of products other than finished products.']}]"
      ]
     },
     "execution_count": 20,
     "metadata": {},
     "output_type": "execute_result"
    }
   ],
   "source": [
    "d"
   ]
  }
 ],
 "metadata": {
  "kernelspec": {
   "display_name": "paper-chat-9TtSrW0h-py3.11",
   "language": "python",
   "name": "python3"
  },
  "language_info": {
   "codemirror_mode": {
    "name": "ipython",
    "version": 3
   },
   "file_extension": ".py",
   "mimetype": "text/x-python",
   "name": "python",
   "nbconvert_exporter": "python",
   "pygments_lexer": "ipython3",
   "version": "3.11.4"
  }
 },
 "nbformat": 4,
 "nbformat_minor": 2
}
